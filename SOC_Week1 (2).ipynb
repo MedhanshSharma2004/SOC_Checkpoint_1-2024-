{
 "cells": [
  {
   "cell_type": "code",
   "execution_count": 1,
   "id": "850a4ab6-f149-4305-b996-3461f59a5ff6",
   "metadata": {},
   "outputs": [],
   "source": [
    "from qiskit import QuantumCircuit\n",
    "import qiskit.quantum_info as qi"
   ]
  },
  {
   "cell_type": "markdown",
   "id": "fa62c2c9-774c-428b-b9b0-ab21e91d9fe8",
   "metadata": {},
   "source": [
    "# Q1 a)"
   ]
  },
  {
   "cell_type": "code",
   "execution_count": 2,
   "id": "d59a3608-3d55-450f-a11a-83dde56a01d6",
   "metadata": {},
   "outputs": [
    {
     "data": {
      "text/html": [
       "<pre style=\"word-wrap: normal;white-space: pre;background: #fff0;line-height: 1.1;font-family: &quot;Courier New&quot;,Courier,monospace\">     ┌───┐     ┌───┐     \n",
       "q_0: ┤ X ├──■──┤ X ├──■──\n",
       "     ├───┤┌─┴─┐└─┬─┘┌─┴─┐\n",
       "q_1: ┤ H ├┤ X ├──■──┤ X ├\n",
       "     └───┘└───┘     └───┘</pre>"
      ],
      "text/plain": [
       "     ┌───┐     ┌───┐     \n",
       "q_0: ┤ X ├──■──┤ X ├──■──\n",
       "     ├───┤┌─┴─┐└─┬─┘┌─┴─┐\n",
       "q_1: ┤ H ├┤ X ├──■──┤ X ├\n",
       "     └───┘└───┘     └───┘"
      ]
     },
     "execution_count": 2,
     "metadata": {},
     "output_type": "execute_result"
    }
   ],
   "source": [
    "qc = QuantumCircuit(2)\n",
    "\n",
    "qc.x(0)  \n",
    "qc.h(1)  \n",
    "\n",
    "qc.cx(0, 1)\n",
    "qc.cx(1, 0)\n",
    "qc.cx(0, 1)\n",
    "qc.draw()"
   ]
  },
  {
   "cell_type": "markdown",
   "id": "86347beb-48de-481c-9b0a-39459ba45a7d",
   "metadata": {},
   "source": [
    "# Q1 b)"
   ]
  },
  {
   "cell_type": "code",
   "execution_count": 3,
   "id": "28e175b6-ffab-480b-aee5-f5ab6dfd2c4f",
   "metadata": {},
   "outputs": [
    {
     "name": "stdout",
     "output_type": "stream",
     "text": [
      "     ┌───┐          \n",
      "q_0: ┤ X ├──────────\n",
      "     └─┬─┘┌───┐     \n",
      "q_1: ──■──┤ X ├─────\n",
      "       │  └─┬─┘┌───┐\n",
      "q_2: ──■────■──┤ X ├\n",
      "               └───┘\n"
     ]
    }
   ],
   "source": [
    "qc_1 = QuantumCircuit(3)\n",
    "\n",
    "# Step 1: Flip the 3rd bit if 1st and 2nd are 1\n",
    "qc_1.ccx(2, 1, 0)\n",
    "\n",
    "# Step 2: Flip the 2nd bit if 1st is 1\n",
    "qc_1.cx(2, 1)\n",
    "\n",
    "# Step 3: Flip the 1st bit\n",
    "qc_1.x(2)\n",
    "\n",
    "# Draw the circuit\n",
    "print(qc_1.draw())"
   ]
  },
  {
   "cell_type": "markdown",
   "id": "e54a72db-761b-4e0a-9f46-770378daf32d",
   "metadata": {},
   "source": [
    "# Q1 c)"
   ]
  },
  {
   "cell_type": "code",
   "execution_count": 4,
   "id": "f336dbed-f365-4d8a-9978-4fac634dd182",
   "metadata": {},
   "outputs": [
    {
     "name": "stdout",
     "output_type": "stream",
     "text": [
      "                                                  \n",
      "q_0: ────────────■───────────────────■────────────\n",
      "                 │                   │            \n",
      "q_1: ───────■────┼─────────■─────────┼────────────\n",
      "            │    │         │         │            \n",
      "q_2: ──■────┼────┼────■────┼─────────┼────────────\n",
      "       │    │  ┌─┴─┐  │    │  ┌───┐┌─┴─┐     ┌───┐\n",
      "q_3: ──┼────┼──┤ X ├──┼────┼──┤ X ├┤ X ├─────┤ X ├\n",
      "       │    │  └───┘  │  ┌─┴─┐└─┬─┘├───┤     └─┬─┘\n",
      "q_4: ──┼────■─────────┼──┤ X ├──┼──┤ X ├──■────┼──\n",
      "       │    │       ┌─┴─┐└───┘  │  └─┬─┘  │    │  \n",
      "q_5: ──■────┼───────┤ X ├───────┼────┼────┼────┼──\n",
      "     ┌─┴─┐  │       └───┘       │    │    │    │  \n",
      "q_6: ┤ X ├──┼───────────────────┼────■────■────┼──\n",
      "     └───┘┌─┴─┐                 │         │    │  \n",
      "q_7: ─────┤ X ├─────────────────■─────────┼────┼──\n",
      "          └───┘                         ┌─┴─┐  │  \n",
      "q_8: ───────────────────────────────────┤ X ├──■──\n",
      "                                        └───┘     \n"
     ]
    }
   ],
   "source": [
    "qc_2 = QuantumCircuit(9)\n",
    "qc_2.ccx(2, 5, 6)\n",
    "qc_2.cx(2, 5)\n",
    "qc_2.ccx(1, 4, 7)\n",
    "qc_2.cx(1, 4)\n",
    "qc_2.cx(6, 4)\n",
    "qc_2.cx(0, 3)\n",
    "qc_2.cx(7, 3)\n",
    "qc_2.ccx(6, 4, 8)\n",
    "qc_2.cx(0, 3)\n",
    "qc_2.cx(8, 3)\n",
    "\n",
    "print(qc_2.draw())"
   ]
  },
  {
   "cell_type": "markdown",
   "id": "b95c113b-7d99-4705-a394-6c1ec06cf3c4",
   "metadata": {},
   "source": [
    "# Q1) d"
   ]
  },
  {
   "cell_type": "code",
   "execution_count": 5,
   "id": "0676a528-4dc6-4955-aa36-ba7360d65a8b",
   "metadata": {},
   "outputs": [
    {
     "name": "stdout",
     "output_type": "stream",
     "text": [
      "     ┌───┐                  \n",
      "q_0: ┤ X ├──■───────────────\n",
      "     └───┘  │               \n",
      "q_1: ───────┼────■──────────\n",
      "     ┌───┐  │    │          \n",
      "q_2: ┤ X ├──┼────┼────■─────\n",
      "     └───┘┌─┴─┐┌─┴─┐┌─┴─┐┌─┐\n",
      "q_3: ─────┤ X ├┤ X ├┤ X ├┤M├\n",
      "          └───┘└───┘└───┘└╥┘\n",
      "c: 1/═════════════════════╩═\n",
      "                          0 \n"
     ]
    }
   ],
   "source": [
    "qc = QuantumCircuit(4, 1)\n",
    "qc.x(0)\n",
    "qc.x(2)\n",
    "qc.cx(0, 3)\n",
    "qc.cx(1, 3)\n",
    "qc.cx(2, 3)\n",
    "qc.measure(3, 0)\n",
    "print(qc.draw())"
   ]
  },
  {
   "cell_type": "code",
   "execution_count": 6,
   "id": "4d76155a-1044-478b-9290-66413a252718",
   "metadata": {},
   "outputs": [
    {
     "ename": "ImportError",
     "evalue": "cannot import name 'Aer' from 'qiskit' (C:\\Users\\medha\\AppData\\Local\\Programs\\Python\\Python312\\Lib\\site-packages\\qiskit\\__init__.py)",
     "output_type": "error",
     "traceback": [
      "\u001b[1;31m---------------------------------------------------------------------------\u001b[0m",
      "\u001b[1;31mImportError\u001b[0m                               Traceback (most recent call last)",
      "Cell \u001b[1;32mIn[6], line 2\u001b[0m\n\u001b[0;32m      1\u001b[0m \u001b[38;5;28;01mfrom\u001b[39;00m \u001b[38;5;21;01mqiskit\u001b[39;00m \u001b[38;5;28;01mimport\u001b[39;00m QuantumCircuit\n\u001b[1;32m----> 2\u001b[0m \u001b[38;5;28;01mfrom\u001b[39;00m \u001b[38;5;21;01mqiskit\u001b[39;00m \u001b[38;5;28;01mimport\u001b[39;00m Aer, transpile, assemble\n\u001b[0;32m      3\u001b[0m \u001b[38;5;28;01mfrom\u001b[39;00m \u001b[38;5;21;01mqiskit\u001b[39;00m\u001b[38;5;21;01m.\u001b[39;00m\u001b[38;5;21;01mvisualization\u001b[39;00m \u001b[38;5;28;01mimport\u001b[39;00m plot_histogram\n\u001b[0;32m      4\u001b[0m \u001b[38;5;28;01mimport\u001b[39;00m \u001b[38;5;21;01mnumpy\u001b[39;00m \u001b[38;5;28;01mas\u001b[39;00m \u001b[38;5;21;01mnp\u001b[39;00m\n",
      "\u001b[1;31mImportError\u001b[0m: cannot import name 'Aer' from 'qiskit' (C:\\Users\\medha\\AppData\\Local\\Programs\\Python\\Python312\\Lib\\site-packages\\qiskit\\__init__.py)"
     ]
    }
   ],
   "source": [
    "from qiskit import QuantumCircuit\n",
    "from qiskit import Aer, transpile, assemble\n",
    "from qiskit.visualization import plot_histogram\n",
    "import numpy as np"
   ]
  },
  {
   "cell_type": "code",
   "execution_count": 8,
   "id": "1cc3b976-870c-4313-9a52-6a696e274602",
   "metadata": {},
   "outputs": [
    {
     "ename": "ImportError",
     "evalue": "cannot import name 'execute' from 'qiskit' (C:\\Users\\medha\\AppData\\Local\\Programs\\Python\\Python312\\Lib\\site-packages\\qiskit\\__init__.py)",
     "output_type": "error",
     "traceback": [
      "\u001b[1;31m---------------------------------------------------------------------------\u001b[0m",
      "\u001b[1;31mImportError\u001b[0m                               Traceback (most recent call last)",
      "Cell \u001b[1;32mIn[8], line 1\u001b[0m\n\u001b[1;32m----> 1\u001b[0m \u001b[38;5;28;01mfrom\u001b[39;00m \u001b[38;5;21;01mqiskit\u001b[39;00m \u001b[38;5;28;01mimport\u001b[39;00m QuantumCircuit, execute, BasicAer\n\u001b[0;32m      2\u001b[0m \u001b[38;5;28;01mfrom\u001b[39;00m \u001b[38;5;21;01mqiskit\u001b[39;00m\u001b[38;5;21;01m.\u001b[39;00m\u001b[38;5;21;01mvisualization\u001b[39;00m \u001b[38;5;28;01mimport\u001b[39;00m plot_histogram\n\u001b[0;32m      3\u001b[0m \u001b[38;5;28;01mimport\u001b[39;00m \u001b[38;5;21;01mnumpy\u001b[39;00m \u001b[38;5;28;01mas\u001b[39;00m \u001b[38;5;21;01mnp\u001b[39;00m\n",
      "\u001b[1;31mImportError\u001b[0m: cannot import name 'execute' from 'qiskit' (C:\\Users\\medha\\AppData\\Local\\Programs\\Python\\Python312\\Lib\\site-packages\\qiskit\\__init__.py)"
     ]
    }
   ],
   "source": [
    "from qiskit import QuantumCircuit, execute, BasicAer\n",
    "from qiskit.visualization import plot_histogram\n",
    "import numpy as np\n",
    "\n",
    "def deutsch_josza_oracle(n, oracle_type):\n",
    "    oracle_qc = QuantumCircuit(n+1)\n",
    "    \n",
    "    if oracle_type == \"balanced\":\n",
    "        secret = np.random.randint(1, 2**n)\n",
    "        secret_str = format(secret, f'0{n}b')\n",
    "        \n",
    "        for qubit in range(len(secret_str)):\n",
    "            if secret_str[qubit] == '1':\n",
    "                oracle_qc.x(qubit)\n",
    "        \n",
    "        for qubit in range(n):\n",
    "            oracle_qc.cx(qubit, n)\n",
    "        \n",
    "        for qubit in range(len(secret_str)):\n",
    "            if secret_str[qubit] == '1':\n",
    "                oracle_qc.x(qubit)\n",
    "    \n",
    "    elif oracle_type == \"constant\":\n",
    "        output = np.random.randint(2)\n",
    "        if output == 1:\n",
    "            oracle_qc.x(n)\n",
    "    \n",
    "    return oracle_qc\n",
    "\n",
    "def deutsch_josza_algorithm(oracle_qc, n):\n",
    "    dj_circuit = QuantumCircuit(n+1, n)\n",
    "    dj_circuit.x(n)\n",
    "    dj_circuit.h(range(n+1))\n",
    "    dj_circuit.append(oracle_qc, range(n+1))\n",
    "    dj_circuit.h(range(n))\n",
    "    dj_circuit.measure(range(n), range(n))\n",
    "    return dj_circuit\n",
    "\n",
    "n = 4\n",
    "oracle_type = np.random.choice([\"balanced\", \"constant\"])\n",
    "oracle_qc = deutsch_josza_oracle(n, oracle_type)\n",
    "dj_circuit = deutsch_josza_algorithm(oracle_qc, n)\n",
    "\n",
    "simulator = BasicAer.get_backend('qasm_simulator')\n",
    "job = execute(dj_circuit, simulator, shots=1024)\n",
    "result = job.result()\n",
    "counts = result.get_counts()\n",
    "plot_histogram(counts)\n"
   ]
  },
  {
   "cell_type": "code",
   "execution_count": 10,
   "id": "bb158f14-57ab-48df-8a18-12dea8b13945",
   "metadata": {},
   "outputs": [
    {
     "name": "stdout",
     "output_type": "stream",
     "text": [
      "Requirement already satisfied: qiskit in c:\\users\\medha\\appdata\\local\\programs\\python\\python312\\lib\\site-packages (1.1.0)\n",
      "Requirement already satisfied: rustworkx>=0.14.0 in c:\\users\\medha\\appdata\\local\\programs\\python\\python312\\lib\\site-packages (from qiskit) (0.14.2)\n",
      "Requirement already satisfied: numpy<3,>=1.17 in c:\\users\\medha\\appdata\\local\\programs\\python\\python312\\lib\\site-packages (from qiskit) (1.26.4)\n",
      "Requirement already satisfied: scipy>=1.5 in c:\\users\\medha\\appdata\\local\\programs\\python\\python312\\lib\\site-packages (from qiskit) (1.13.1)\n",
      "Requirement already satisfied: sympy>=1.3 in c:\\users\\medha\\appdata\\local\\programs\\python\\python312\\lib\\site-packages (from qiskit) (1.12.1)\n",
      "Requirement already satisfied: dill>=0.3 in c:\\users\\medha\\appdata\\local\\programs\\python\\python312\\lib\\site-packages (from qiskit) (0.3.8)\n",
      "Requirement already satisfied: python-dateutil>=2.8.0 in c:\\users\\medha\\appdata\\roaming\\python\\python312\\site-packages (from qiskit) (2.9.0.post0)\n",
      "Requirement already satisfied: stevedore>=3.0.0 in c:\\users\\medha\\appdata\\local\\programs\\python\\python312\\lib\\site-packages (from qiskit) (5.2.0)\n",
      "Requirement already satisfied: typing-extensions in c:\\users\\medha\\appdata\\local\\programs\\python\\python312\\lib\\site-packages (from qiskit) (4.12.2)\n",
      "Requirement already satisfied: symengine>=0.11 in c:\\users\\medha\\appdata\\local\\programs\\python\\python312\\lib\\site-packages (from qiskit) (0.11.0)\n",
      "Requirement already satisfied: six>=1.5 in c:\\users\\medha\\appdata\\roaming\\python\\python312\\site-packages (from python-dateutil>=2.8.0->qiskit) (1.16.0)\n",
      "Requirement already satisfied: pbr!=2.1.0,>=2.0.0 in c:\\users\\medha\\appdata\\local\\programs\\python\\python312\\lib\\site-packages (from stevedore>=3.0.0->qiskit) (6.0.0)\n",
      "Requirement already satisfied: mpmath<1.4.0,>=1.1.0 in c:\\users\\medha\\appdata\\local\\programs\\python\\python312\\lib\\site-packages (from sympy>=1.3->qiskit) (1.3.0)\n",
      "Note: you may need to restart the kernel to use updated packages.\n"
     ]
    }
   ],
   "source": [
    "pip install --upgrade qiskit"
   ]
  },
  {
   "cell_type": "code",
   "execution_count": null,
   "id": "2dbbd41f-b91c-4972-9f41-fc74fea7665f",
   "metadata": {},
   "outputs": [],
   "source": []
  }
 ],
 "metadata": {
  "kernelspec": {
   "display_name": "Python 3 (ipykernel)",
   "language": "python",
   "name": "python3"
  },
  "language_info": {
   "codemirror_mode": {
    "name": "ipython",
    "version": 3
   },
   "file_extension": ".py",
   "mimetype": "text/x-python",
   "name": "python",
   "nbconvert_exporter": "python",
   "pygments_lexer": "ipython3",
   "version": "3.12.4"
  }
 },
 "nbformat": 4,
 "nbformat_minor": 5
}
